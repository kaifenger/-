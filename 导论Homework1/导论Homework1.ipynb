{
 "cells": [
  {
   "cell_type": "markdown",
   "metadata": {},
   "source": [
    "### 导论Homework1\n",
    "#### 姓名：张凯诚\n",
    "#### 学号：10235501435\n",
    "#### 日期 2024.9.24\n",
    "\n"
   ]
  },
  {
   "cell_type": "markdown",
   "metadata": {},
   "source": [
    "##### 1.编写Python程序，打印\"数据科学与工程导论\"，并使用 print(chr(0x2605)) 语句将这句话包围起来。"
   ]
  },
  {
   "cell_type": "code",
   "execution_count": 10,
   "metadata": {},
   "outputs": [
    {
     "name": "stdout",
     "output_type": "stream",
     "text": [
      "★★★★★★★★★★\n",
      "★数据科学工程导论★\n",
      "★★★★★★★★★★\n"
     ]
    }
   ],
   "source": [
    "print(chr(0x2605)*10)\n",
    "print(chr(0x2605)+\"数据科学工程导论\"+chr(0x2605))\n",
    "print(chr(0x2605)*10)"
   ]
  },
  {
   "cell_type": "markdown",
   "metadata": {},
   "source": [
    "##### 2.写一个 Python 程序，输入 x, y, z 这三个数，将这三个数从小到大使用 print 函数打印出来。"
   ]
  },
  {
   "cell_type": "code",
   "execution_count": 1,
   "metadata": {},
   "outputs": [
    {
     "name": "stdout",
     "output_type": "stream",
     "text": [
      "1\n",
      "2\n",
      "3\n"
     ]
    }
   ],
   "source": [
    "x=int(input(\"请输入x\"))\n",
    "y=int(input(\"请输入y\"))\n",
    "z=int(input(\"请输入z\"))\n",
    "list=[x,y,z]\n",
    "list.sort()\n",
    "print(list[0])\n",
    "print(list[1])\n",
    "print(list[2])\n"
   ]
  },
  {
   "cell_type": "markdown",
   "metadata": {},
   "source": [
    "##### 3.写一个 Python 程序，有 w, x, y, z 四个数，将这四个数从大到小使用 print 函数打印出来。"
   ]
  },
  {
   "cell_type": "code",
   "execution_count": 2,
   "metadata": {},
   "outputs": [
    {
     "name": "stdout",
     "output_type": "stream",
     "text": [
      "67\n",
      "6\n",
      "2\n",
      "1\n"
     ]
    }
   ],
   "source": [
    "w=int(input(\"请输入w\"))\n",
    "x=int(input(\"请输入x\"))\n",
    "y=int(input(\"请输入y\"))\n",
    "z=int(input(\"请输入z\"))\n",
    "list=[w,x,y,z]\n",
    "list.sort()\n",
    "print(list[3])\n",
    "print(list[2])\n",
    "print(list[1])\n",
    "print(list[0])"
   ]
  },
  {
   "cell_type": "markdown",
   "metadata": {},
   "source": [
    "##### 4.写一个 Python 程序，输出 1-100 中的所有奇数。"
   ]
  },
  {
   "cell_type": "code",
   "execution_count": 5,
   "metadata": {},
   "outputs": [
    {
     "name": "stdout",
     "output_type": "stream",
     "text": [
      "1  3  5  7  9  11  13  15  17  19  21  23  25  27  29  31  33  35  37  39  41  43  45  47  49  51  53  55  57  59  61  63  65  67  69  71  73  75  77  79  81  83  85  87  89  91  93  95  97  99  "
     ]
    }
   ],
   "source": [
    "for i in range(100):\n",
    "    if i%2!=0:\n",
    "        print(i,\" \",end=\"\")"
   ]
  },
  {
   "cell_type": "markdown",
   "metadata": {},
   "source": [
    "##### 5.写一个 Python 程序，用 for 循环，求解 1 到 100 的和。"
   ]
  },
  {
   "cell_type": "code",
   "execution_count": 6,
   "metadata": {},
   "outputs": [
    {
     "name": "stdout",
     "output_type": "stream",
     "text": [
      "5050\n"
     ]
    }
   ],
   "source": [
    "sum=0\n",
    "for i in range(1,101):\n",
    "    sum+=i\n",
    "print(sum)\n"
   ]
  },
  {
   "cell_type": "markdown",
   "metadata": {},
   "source": [
    "##### 6.写一个 Python 程序，分别用 for 和 while 循环实现对一个给定序列的倒排序输出。例如，给定 L=[1,2,3,4,5]，输出为 [5,4,3,2,1]。"
   ]
  },
  {
   "cell_type": "code",
   "execution_count": 17,
   "metadata": {},
   "outputs": [
    {
     "name": "stdout",
     "output_type": "stream",
     "text": [
      "5  4  3  2  1  \n",
      "\n",
      "5  4  3  2  1  "
     ]
    }
   ],
   "source": [
    "L=[1,2,3,4,5]\n",
    "length=len(L)\n",
    "#使用for循环\n",
    "for i in range(length-1,-1,-1):\n",
    "    print(L[i],\" \",end=\"\")\n",
    "print(\"\\n\")\n",
    "#使用while循环\n",
    "i=length-1\n",
    "while i!=-1:\n",
    "    print(L[i],\" \",end=\"\")\n",
    "    i=i-1\n",
    "\n"
   ]
  },
  {
   "cell_type": "markdown",
   "metadata": {},
   "source": [
    "##### 7.写一个 Python 程序，判断一个输入的字符串 S 是否包含由两个或两个以上连续出现的相同字符组成的字符串。例如，abccccda 中就包含 cccc 这个由 4 个连续字符组成的字符串。"
   ]
  },
  {
   "cell_type": "code",
   "execution_count": 33,
   "metadata": {},
   "outputs": [
    {
     "name": "stdout",
     "output_type": "stream",
     "text": [
      "S中包含由两个或两个以上连续出现的相同字符组成的字符串\n"
     ]
    }
   ],
   "source": [
    "S=input(\"请输入字符串\")\n",
    "length=len(S)\n",
    "test=0\n",
    "for i in range(length-1):\n",
    "    if(S[i]==S[i+1]):\n",
    "        print(\"S中包含由两个或两个以上连续出现的相同字符组成的字符串\")\n",
    "        test+=1\n",
    "        break\n",
    "if test==0:\n",
    "    print(\"S中不包含由两个或两个以上连续出现的相同字符组成的字符串\")\n",
    "    "
   ]
  },
  {
   "cell_type": "markdown",
   "metadata": {},
   "source": [
    "##### 8. 写一个 Python 程序，输入一个字符串 S，去掉其中所有的空格后输出。例如，“DataScience and Engineering”，去掉空格后为“DataScienceandEngineering”。"
   ]
  },
  {
   "cell_type": "code",
   "execution_count": 41,
   "metadata": {},
   "outputs": [
    {
     "name": "stdout",
     "output_type": "stream",
     "text": [
      "Helloworld!!\n"
     ]
    }
   ],
   "source": [
    "S=input(\"请输入字符串\")\n",
    "length=len(S)\n",
    "S1=''\n",
    "for i in range(length):\n",
    "    if S[i]!=\" \":\n",
    "            S1+=S[i]\n",
    "print(S1)"
   ]
  },
  {
   "cell_type": "markdown",
   "metadata": {},
   "source": [
    "##### 9.请设计一个求 3 次方根的算法（不允许直接调用求方根的函数），并给出对应的 Python 程序。 采用牛顿迭代法求解，迭代过程数学公式表示为： X（n+1）=Xn-f(Xn)/f'(Xn)\n"
   ]
  },
  {
   "cell_type": "code",
   "execution_count": 45,
   "metadata": {},
   "outputs": [
    {
     "name": "stdout",
     "output_type": "stream",
     "text": [
      "3.0\n"
     ]
    }
   ],
   "source": [
    "#求x的三次方根\n",
    "a=float(input(\"请输入想求三次方根的数a\"))\n",
    "maxdd=1000\n",
    "jd=1e-10\n",
    "x=a/2.0 #初始猜测值\n",
    "for i in range(maxdd):\n",
    "    x_next=(2*x**3+a)/(3*x**2)\n",
    "    if abs(x-x_next)<jd:\n",
    "        print(x_next)\n",
    "        break\n",
    "    x=x_next\n"
   ]
  },
  {
   "cell_type": "markdown",
   "metadata": {},
   "source": [
    "##### 10.写一个 Python 程序，给定一个常数 n（n>0），求 n 的阶乘，即 n!=1×2×...×(n-1)×n。例如，4!=24，5!=120。"
   ]
  },
  {
   "cell_type": "code",
   "execution_count": 44,
   "metadata": {},
   "outputs": [
    {
     "name": "stdout",
     "output_type": "stream",
     "text": [
      "120\n"
     ]
    }
   ],
   "source": [
    "n=int(input(\"请输入常数n\"))\n",
    "sum=1\n",
    "i=n\n",
    "if n<=0:\n",
    "    print(\"输入的n不符合要求\")\n",
    "else:\n",
    "    while(i>0):\n",
    "        sum=sum*i\n",
    "        i=i-1\n",
    "print(sum)"
   ]
  }
 ],
 "metadata": {
  "kernelspec": {
   "display_name": "Python 3",
   "language": "python",
   "name": "python3"
  },
  "language_info": {
   "codemirror_mode": {
    "name": "ipython",
    "version": 3
   },
   "file_extension": ".py",
   "mimetype": "text/x-python",
   "name": "python",
   "nbconvert_exporter": "python",
   "pygments_lexer": "ipython3",
   "version": "3.11.9"
  }
 },
 "nbformat": 4,
 "nbformat_minor": 2
}
