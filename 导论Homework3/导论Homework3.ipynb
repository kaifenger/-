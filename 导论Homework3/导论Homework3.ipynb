{
 "cells": [
  {
   "cell_type": "markdown",
   "metadata": {},
   "source": [
    "### 导论Homework3\n",
    "#### 10235501435张凯诚\n"
   ]
  },
  {
   "cell_type": "markdown",
   "metadata": {},
   "source": [
    "##### 1.编写 Python程序,判断输入a是否为质数"
   ]
  },
  {
   "cell_type": "code",
   "execution_count": 6,
   "metadata": {},
   "outputs": [
    {
     "name": "stdout",
     "output_type": "stream",
     "text": [
      "49不是质数。\n"
     ]
    }
   ],
   "source": [
    "a = int(input(\"请输入一个整数：\"))\n",
    "\n",
    "if a < 2:\n",
    "    print(f\"{a}不是质数。\")\n",
    "else:\n",
    "    is_prime = True\n",
    "    for i in range(2, int(a**0.5)+1):\n",
    "        if a % i == 0:\n",
    "            is_prime = False\n",
    "            break\n",
    "    if is_prime:\n",
    "        print(f\"{a}是质数。\")\n",
    "    else:\n",
    "        print(f\"{a}不是质数。\")"
   ]
  },
  {
   "cell_type": "markdown",
   "metadata": {},
   "source": [
    "##### 2.用Python实现插入排序该算法，不允许直接调用插入排序函数，需要手动实现其逻辑过程。"
   ]
  },
  {
   "cell_type": "code",
   "execution_count": 5,
   "metadata": {},
   "outputs": [
    {
     "name": "stdout",
     "output_type": "stream",
     "text": [
      "[1, 2, 3, 4, 5, 6, 7]\n"
     ]
    }
   ],
   "source": [
    "def insert_sort(list):\n",
    "    n=len(list)\n",
    "    for i in range(1,n):\n",
    "        key=list[i]\n",
    "        j=i-1\n",
    "        while j>=0 and list[j]>key:\n",
    "            list[j+1]=list[j]\n",
    "            j=j-1\n",
    "        list[j+1]=key\n",
    "    return list\n",
    "str_list=input(\"请输入一个数组\")\n",
    "list=[int(term) for term in str_list.split()]\n",
    "sorted_list=insert_sort(list)\n",
    "print(sorted_list)\n"
   ]
  },
  {
   "cell_type": "markdown",
   "metadata": {},
   "source": [
    "##### 3.用Python实现选择排序该算法，不允许直接调用插入排序函数，需要手动实现其逻辑过程。"
   ]
  },
  {
   "cell_type": "code",
   "execution_count": 4,
   "metadata": {},
   "outputs": [
    {
     "name": "stdout",
     "output_type": "stream",
     "text": [
      "[1, 2, 3, 4, 6, 5, 7]\n"
     ]
    }
   ],
   "source": [
    "#每次把未排序部分的最小元素和未排序部分最前面的一个元素互换位置\n",
    "def selection_sort(list):\n",
    "    n=len(list)\n",
    "    for i in range(n):\n",
    "        min=i\n",
    "        for j in range(i+1,n):\n",
    "            if list[j]<list[min]:\n",
    "                min=j\n",
    "            list[i],list[min]=list[min],list[i]\n",
    "    return list\n",
    "str_list=input(\"请输入一个数组\")\n",
    "list=[int(term) for term in str_list.split()]\n",
    "sorted_list=selection_sort(list)\n",
    "print(sorted_list)   \n"
   ]
  },
  {
   "cell_type": "markdown",
   "metadata": {},
   "source": [
    "##### 4.用Python实现快速排序该算法，不允许直接调用快速排序函数，需要手动实现其逻辑过程。"
   ]
  },
  {
   "cell_type": "code",
   "execution_count": 6,
   "metadata": {},
   "outputs": [
    {
     "name": "stdout",
     "output_type": "stream",
     "text": [
      "[1, 2, 3, 4, 5, 6, 7]\n"
     ]
    }
   ],
   "source": [
    "def quick_sort(list):\n",
    "    n=len(list)\n",
    "    if n<=1:\n",
    "        return list\n",
    "    term=list[n-1]\n",
    "    left=[x for x in list if x<term]\n",
    "    middle=[x for x in list if x==term]\n",
    "    right=[x for x in list if x>term]\n",
    "    return quick_sort(left)+middle+quick_sort(right)\n",
    "str_list=input(\"请输入一个数组\")\n",
    "list=[int(term) for term in str_list.split()]\n",
    "sorted_list=quick_sort(list)\n",
    "print(sorted_list)"
   ]
  },
  {
   "cell_type": "markdown",
   "metadata": {},
   "source": [
    "##### 5.使用 Python 随机生成三组长度递增的随机数列，长度分别为100、1000、10000，对生成的随机数组使用不同的排序算法，例如选择排序和归并排序，至少三种排序方法。对这些数列的数据排序，并分析不同排序算法在不同长度数列下的运行效果，例如运行时间等指标。"
   ]
  },
  {
   "cell_type": "code",
   "execution_count": 9,
   "metadata": {},
   "outputs": [],
   "source": [
    "import random\n",
    "import time\n",
    "import matplotlib.pyplot as plt\n",
    "\n",
    "#插入排序，选择排序，快速排序的函数\n",
    "def insert_sort(list):\n",
    "    n=len(list)\n",
    "    for i in range(1,n):\n",
    "        key=list[i]\n",
    "        j=i-1\n",
    "        while j>=0 and list[j]>key:\n",
    "            list[j+1]=list[j]\n",
    "            j=j-1\n",
    "        list[j+1]=key\n",
    "    return list\n",
    "def selection_sort(list):\n",
    "    n=len(list)\n",
    "    for i in range(n):\n",
    "        min=i\n",
    "        for j in range(i+1,n):\n",
    "            if list[j]<list[min]:\n",
    "                min=j\n",
    "            list[i],list[min]=list[min],list[i]\n",
    "    return list\n",
    "def quick_sort(list):\n",
    "    n=len(list)\n",
    "    if n<=1:\n",
    "        return list\n",
    "    term=list[n-1]\n",
    "    left=[x for x in list if x<term]\n",
    "    middle=[x for x in list if x==term]\n",
    "    right=[x for x in list if x>term]\n",
    "    return quick_sort(left)+middle+quick_sort(right)\n",
    "\n"
   ]
  },
  {
   "cell_type": "markdown",
   "metadata": {},
   "source": [
    "##### 6.使用python代码获取当前系统时间"
   ]
  },
  {
   "cell_type": "code",
   "execution_count": 11,
   "metadata": {},
   "outputs": [
    {
     "name": "stdout",
     "output_type": "stream",
     "text": [
      "2024-10-17 15:11:07.532437\n"
     ]
    }
   ],
   "source": [
    "import datetime\n",
    "nowtime=datetime.datetime.now()\n",
    "print(nowtime)"
   ]
  },
  {
   "cell_type": "markdown",
   "metadata": {},
   "source": [
    "##### 7.Homework/data文件夹下的stuGrade.csv文件中包含5位同学的学号、语文成绩、数学成绩和英语成绩，请先用记事本打开该文件，查看文件内容，然后编写Python程序，读取该文件，并计算出各科的平均成绩（保留2位小数）。"
   ]
  },
  {
   "cell_type": "code",
   "execution_count": null,
   "metadata": {},
   "outputs": [],
   "source": []
  },
  {
   "cell_type": "markdown",
   "metadata": {},
   "source": [
    "##### 8.请在第7题的代码继续编写Python程序，将以下内容写入my.txt文件中，一并上传到github中。\n",
    "\n",
    "第1行：你的学号和姓名\n",
    "\n",
    "第2行：3门课程的平均成绩（任意课程），保留2位小数，以英文逗号间隔\n",
    "\n",
    "第3行：系统当前时间，格式例如2020-01-01 12:00:00\n",
    "\n",
    "第4行：两秒后的系统当前时间（利用sleep()方法）"
   ]
  },
  {
   "cell_type": "code",
   "execution_count": null,
   "metadata": {},
   "outputs": [],
   "source": []
  }
 ],
 "metadata": {
  "kernelspec": {
   "display_name": "pythonProject",
   "language": "python",
   "name": "python3"
  },
  "language_info": {
   "codemirror_mode": {
    "name": "ipython",
    "version": 3
   },
   "file_extension": ".py",
   "mimetype": "text/x-python",
   "name": "python",
   "nbconvert_exporter": "python",
   "pygments_lexer": "ipython3",
   "version": "3.11.8"
  }
 },
 "nbformat": 4,
 "nbformat_minor": 2
}
