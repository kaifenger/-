{
 "cells": [
  {
   "cell_type": "markdown",
   "metadata": {},
   "source": [
    "### 导论Homework2\n",
    "#### 10235501435张凯诚\n"
   ]
  },
  {
   "cell_type": "markdown",
   "metadata": {},
   "source": [
    "##### 1. 编写 Python 程序，求两个正整数的最大公约数。"
   ]
  },
  {
   "cell_type": "code",
   "execution_count": 4,
   "metadata": {},
   "outputs": [
    {
     "name": "stdout",
     "output_type": "stream",
     "text": [
      "4\n"
     ]
    }
   ],
   "source": [
    "a=int(input(\"请输入第一个正整数\"))\n",
    "b=int(input('请输入第二个正整数'))\n",
    "if a<=0 or b<=0:\n",
    "    print(\"输入不合法\")\n",
    "else:\n",
    "    while b!=0:\n",
    "        a,b=b,a%b\n",
    "    print(a)\n"
   ]
  },
  {
   "cell_type": "markdown",
   "metadata": {},
   "source": [
    "##### 2. 用if语句实现百分制转等级制（考试成绩，60分以下不合格，60—74分合格，75—89分为良好，90分以上为优秀）。"
   ]
  },
  {
   "cell_type": "code",
   "execution_count": 7,
   "metadata": {},
   "outputs": [
    {
     "name": "stdout",
     "output_type": "stream",
     "text": [
      "良好\n"
     ]
    }
   ],
   "source": [
    "score=int(input(\"请输入成绩\"))\n",
    "if score<60:\n",
    "    print(\"不合格\")\n",
    "elif score>=60 and score<=74: \n",
    "    print(\"合格\")\n",
    "elif score>=75 and score<=89:\n",
    "    print(\"良好\")\n",
    "elif score>=90 and score<=100:\n",
    "    print(\"优秀\")\n",
    "else:\n",
    "    print(\"输入的成绩不合法\")\n"
   ]
  },
  {
   "cell_type": "markdown",
   "metadata": {},
   "source": [
    "##### 3. 编写Python程序，完成十进制小数到二进制小数的转换"
   ]
  },
  {
   "cell_type": "code",
   "execution_count": 5,
   "metadata": {},
   "outputs": [
    {
     "name": "stdout",
     "output_type": "stream",
     "text": [
      "0.101\n"
     ]
    }
   ],
   "source": [
    "#这里只讨论小数为正的情况，若原小数是负数，只需在用同样的方法转化后加上负号即可\n",
    "x=float(input(\"请输入十进制小数\"))\n",
    "if x<0 or x>=1:\n",
    "    print(\"输入的数不合法\")\n",
    "else:\n",
    "    result=\"0.\"\n",
    "    for _ in range(50):#50是我规定的最大迭代次数\n",
    "        x=x*2\n",
    "        x_int=int(x)\n",
    "        result+=str(x_int)\n",
    "        x-=x_int  \n",
    "        if(x==0):\n",
    "            break\n",
    "    print(result)\n",
    "\n",
    "\n"
   ]
  },
  {
   "cell_type": "markdown",
   "metadata": {},
   "source": [
    "##### 4. 编写Python程序，产生10-20的随机浮点数"
   ]
  },
  {
   "cell_type": "code",
   "execution_count": 3,
   "metadata": {},
   "outputs": [
    {
     "name": "stdout",
     "output_type": "stream",
     "text": [
      "14.035900276040184\n"
     ]
    }
   ],
   "source": [
    "import random\n",
    "x=random.uniform(10,20)\n",
    "print(x)\n"
   ]
  },
  {
   "cell_type": "markdown",
   "metadata": {},
   "source": [
    "##### 5. 编写一个Python函数，判断一个整数是否是回文数。回文数是指正序（从左向右）和倒序（从右向左）读都是一样的数。"
   ]
  },
  {
   "cell_type": "code",
   "execution_count": 6,
   "metadata": {},
   "outputs": [
    {
     "name": "stdout",
     "output_type": "stream",
     "text": [
      "该整数是回文数\n"
     ]
    }
   ],
   "source": [
    "x=str(input(\"请输入一个整数\"))\n",
    "length=len(x)\n",
    "sum=0\n",
    "for i in range(length//2):\n",
    "    if x[i]!=x[length-1-i]:\n",
    "        print(\"该整数不是回文数\")\n",
    "        sum=sum+1\n",
    "        break\n",
    "if(sum==0):\n",
    "    print(\"该整数是回文数\")\n",
    "\n"
   ]
  },
  {
   "cell_type": "markdown",
   "metadata": {},
   "source": [
    "##### 6.编写一个Python函数，返回一个包含斐波那契数列的前N个数的列表。斐波那契数列是一个数列，其中每个数是前两个数的和，数列以0和1开始。"
   ]
  },
  {
   "cell_type": "code",
   "execution_count": 5,
   "metadata": {},
   "outputs": [
    {
     "name": "stdout",
     "output_type": "stream",
     "text": [
      "{0: 0, 1: 1, 2: 1, 3: 2, 4: 3, 5: 5, 6: 8}\n"
     ]
    }
   ],
   "source": [
    "n=int(input('请输入数字n'))\n",
    "list={}\n",
    "list[0]=0\n",
    "list[1]=1\n",
    "for i in range(2,n+1):\n",
    "    list[i]=list[i-1]+list[i-2]\n",
    "print(list)"
   ]
  },
  {
   "cell_type": "markdown",
   "metadata": {},
   "source": [
    "##### 7.编写一个Python函数，接受一个整数数组作为输入，返回数组中第二大的数。如果数组中只有一个元素或数组为空，则返回-1。"
   ]
  },
  {
   "cell_type": "code",
   "execution_count": 12,
   "metadata": {},
   "outputs": [
    {
     "name": "stdout",
     "output_type": "stream",
     "text": [
      "7\n"
     ]
    }
   ],
   "source": [
    "list_str = input(\"请输入一个整数数组，用空格分隔：\")  \n",
    "shuzu=list_str.split(' ')\n",
    "length = len(shuzu)  \n",
    "  \n",
    "if length <= 1:  \n",
    "    print(-1)  \n",
    "else:  \n",
    "    sorted_shuzu = sorted(shuzu)  # 将排序后的列表赋值给sorted_shuzu  \n",
    "    print(sorted_shuzu[length - 2])  # 从排序后的列表中获取倒数第二个元素"
   ]
  },
  {
   "cell_type": "markdown",
   "metadata": {},
   "source": [
    "##### 8. 编写一个函数，使其能够用正则表达式的方式简单验证身份证号是否合法。"
   ]
  },
  {
   "cell_type": "code",
   "execution_count": 16,
   "metadata": {},
   "outputs": [
    {
     "name": "stdout",
     "output_type": "stream",
     "text": [
      "该身份证号合法\n"
     ]
    }
   ],
   "source": [
    "import re\n",
    "def legal_idcard(id):\n",
    "    #定义正则表达式的模式\n",
    "    mode= r'^[1-9]\\d{5}(19|20)\\d{2}(0[1-9]|1[0-2])(0[1-9]|[1-2]\\d|3[0-1])\\d{3}[\\dXx]$'\n",
    "    if re.match(mode,id):\n",
    "        print(\"该身份证号合法\")\n",
    "    else:\n",
    "        print(\"该身份证号不合法\")\n",
    "\n",
    "id=input(\"请输入身份证号\")\n",
    "legal_idcard(id)"
   ]
  },
  {
   "cell_type": "markdown",
   "metadata": {},
   "source": [
    "#####"
   ]
  }
 ],
 "metadata": {
  "kernelspec": {
   "display_name": "pythonProject",
   "language": "python",
   "name": "python3"
  },
  "language_info": {
   "codemirror_mode": {
    "name": "ipython",
    "version": 3
   },
   "file_extension": ".py",
   "mimetype": "text/x-python",
   "name": "python",
   "nbconvert_exporter": "python",
   "pygments_lexer": "ipython3",
   "version": "3.11.8"
  }
 },
 "nbformat": 4,
 "nbformat_minor": 2
}
